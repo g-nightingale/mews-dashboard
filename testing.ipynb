{
 "cells": [
  {
   "cell_type": "code",
   "execution_count": 1,
   "metadata": {},
   "outputs": [],
   "source": [
    "import pandas as pd\n",
    "import sqlite3\n",
    "import utils as ut"
   ]
  },
  {
   "cell_type": "code",
   "execution_count": 2,
   "metadata": {},
   "outputs": [
    {
     "data": {
      "text/html": [
       "<div>\n",
       "<style scoped>\n",
       "    .dataframe tbody tr th:only-of-type {\n",
       "        vertical-align: middle;\n",
       "    }\n",
       "\n",
       "    .dataframe tbody tr th {\n",
       "        vertical-align: top;\n",
       "    }\n",
       "\n",
       "    .dataframe thead th {\n",
       "        text-align: right;\n",
       "    }\n",
       "</style>\n",
       "<table border=\"1\" class=\"dataframe\">\n",
       "  <thead>\n",
       "    <tr style=\"text-align: right;\">\n",
       "      <th></th>\n",
       "      <th>ID</th>\n",
       "      <th>STATE</th>\n",
       "      <th>ORIGIN</th>\n",
       "      <th>CREATEDUTC</th>\n",
       "      <th>BUSINESSSEGMENTID</th>\n",
       "      <th>PURPOSE</th>\n",
       "    </tr>\n",
       "  </thead>\n",
       "  <tbody>\n",
       "    <tr>\n",
       "      <th>0</th>\n",
       "      <td>f9859ab1-c78d-411d-89ad-b0af00f8a56e</td>\n",
       "      <td>Started</td>\n",
       "      <td>Commander</td>\n",
       "      <td>2023-11-03T15:05:17Z</td>\n",
       "      <td>None</td>\n",
       "      <td>None</td>\n",
       "    </tr>\n",
       "    <tr>\n",
       "      <th>1</th>\n",
       "      <td>41061fde-33b8-4941-b373-b0af00dfc5ce</td>\n",
       "      <td>Canceled</td>\n",
       "      <td>Commander</td>\n",
       "      <td>2023-11-03T13:34:43Z</td>\n",
       "      <td>None</td>\n",
       "      <td>Leisure</td>\n",
       "    </tr>\n",
       "    <tr>\n",
       "      <th>2</th>\n",
       "      <td>c0de13bf-2f21-473a-bd2e-b0af00df7543</td>\n",
       "      <td>Optional</td>\n",
       "      <td>Connector</td>\n",
       "      <td>2023-11-03T13:33:34Z</td>\n",
       "      <td>None</td>\n",
       "      <td>None</td>\n",
       "    </tr>\n",
       "    <tr>\n",
       "      <th>3</th>\n",
       "      <td>350ac9c4-f012-4f49-b78b-b0af00df7543</td>\n",
       "      <td>Optional</td>\n",
       "      <td>Connector</td>\n",
       "      <td>2023-11-03T13:33:34Z</td>\n",
       "      <td>None</td>\n",
       "      <td>None</td>\n",
       "    </tr>\n",
       "    <tr>\n",
       "      <th>4</th>\n",
       "      <td>026b1803-ba8f-4a36-b73b-b0af00df7543</td>\n",
       "      <td>Optional</td>\n",
       "      <td>Connector</td>\n",
       "      <td>2023-11-03T13:33:34Z</td>\n",
       "      <td>None</td>\n",
       "      <td>None</td>\n",
       "    </tr>\n",
       "  </tbody>\n",
       "</table>\n",
       "</div>"
      ],
      "text/plain": [
       "                                     ID     STATE     ORIGIN   \n",
       "0  f9859ab1-c78d-411d-89ad-b0af00f8a56e   Started  Commander  \\\n",
       "1  41061fde-33b8-4941-b373-b0af00dfc5ce  Canceled  Commander   \n",
       "2  c0de13bf-2f21-473a-bd2e-b0af00df7543  Optional  Connector   \n",
       "3  350ac9c4-f012-4f49-b78b-b0af00df7543  Optional  Connector   \n",
       "4  026b1803-ba8f-4a36-b73b-b0af00df7543  Optional  Connector   \n",
       "\n",
       "             CREATEDUTC BUSINESSSEGMENTID  PURPOSE  \n",
       "0  2023-11-03T15:05:17Z              None     None  \n",
       "1  2023-11-03T13:34:43Z              None  Leisure  \n",
       "2  2023-11-03T13:33:34Z              None     None  \n",
       "3  2023-11-03T13:33:34Z              None     None  \n",
       "4  2023-11-03T13:33:34Z              None     None  "
      ]
     },
     "execution_count": 2,
     "metadata": {},
     "output_type": "execute_result"
    }
   ],
   "source": [
    "# Load config dict\n",
    "config = ut.load_config()\n",
    "\n",
    "# Connect to the SQLite database\n",
    "conn = sqlite3.connect(config['db_name'])\n",
    "\n",
    "# Query the database to fetch the required data\n",
    "df = pd.read_sql_query(\"SELECT * FROM reservations\", conn)\n",
    "\n",
    "df.head()"
   ]
  },
  {
   "cell_type": "code",
   "execution_count": 4,
   "metadata": {},
   "outputs": [
    {
     "data": {
      "text/plain": [
       "STATE\n",
       "Canceled     815\n",
       "Confirmed    120\n",
       "Processed     46\n",
       "Started       14\n",
       "Optional       5\n",
       "Inquired       1\n",
       "Name: count, dtype: int64"
      ]
     },
     "execution_count": 4,
     "metadata": {},
     "output_type": "execute_result"
    }
   ],
   "source": [
    "df['STATE'].value_counts()"
   ]
  },
  {
   "cell_type": "code",
   "execution_count": 5,
   "metadata": {},
   "outputs": [
    {
     "data": {
      "text/plain": [
       "ORIGIN\n",
       "Connector    544\n",
       "Commander    457\n",
       "Name: count, dtype: int64"
      ]
     },
     "execution_count": 5,
     "metadata": {},
     "output_type": "execute_result"
    }
   ],
   "source": [
    "df['ORIGIN'].value_counts()"
   ]
  },
  {
   "cell_type": "code",
   "execution_count": 6,
   "metadata": {},
   "outputs": [
    {
     "data": {
      "text/plain": [
       "BUSINESSSEGMENTID\n",
       "307f6122-bed6-4a1c-9efe-ab3a00c82222    29\n",
       "56978b38-dd21-4cdb-b76d-ab3a00c764cc     2\n",
       "60c18f1e-9956-4057-8d32-b03f002dfa3a     1\n",
       "Name: count, dtype: int64"
      ]
     },
     "execution_count": 6,
     "metadata": {},
     "output_type": "execute_result"
    }
   ],
   "source": [
    "df['BUSINESSSEGMENTID'].value_counts()"
   ]
  },
  {
   "cell_type": "code",
   "execution_count": 7,
   "metadata": {},
   "outputs": [
    {
     "data": {
      "text/plain": [
       "PURPOSE\n",
       "Leisure     62\n",
       "Business    12\n",
       "Student      1\n",
       "Name: count, dtype: int64"
      ]
     },
     "execution_count": 7,
     "metadata": {},
     "output_type": "execute_result"
    }
   ],
   "source": [
    "df['PURPOSE'].value_counts()"
   ]
  }
 ],
 "metadata": {
  "kernelspec": {
   "display_name": "torch-env",
   "language": "python",
   "name": "python3"
  },
  "language_info": {
   "codemirror_mode": {
    "name": "ipython",
    "version": 3
   },
   "file_extension": ".py",
   "mimetype": "text/x-python",
   "name": "python",
   "nbconvert_exporter": "python",
   "pygments_lexer": "ipython3",
   "version": "3.9.12"
  }
 },
 "nbformat": 4,
 "nbformat_minor": 2
}
